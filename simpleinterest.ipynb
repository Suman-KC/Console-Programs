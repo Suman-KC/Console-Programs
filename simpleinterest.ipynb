{
  "nbformat": 4,
  "nbformat_minor": 0,
  "metadata": {
    "colab": {
      "provenance": [],
      "authorship_tag": "ABX9TyNKQ+POFgiUTBMyFJWVjtG4",
      "include_colab_link": true
    },
    "kernelspec": {
      "name": "python3",
      "display_name": "Python 3"
    },
    "language_info": {
      "name": "python"
    }
  },
  "cells": [
    {
      "cell_type": "markdown",
      "metadata": {
        "id": "view-in-github",
        "colab_type": "text"
      },
      "source": [
        "<a href=\"https://colab.research.google.com/github/Suman-KC/Console-Programs/blob/master/simpleinterest.ipynb\" target=\"_parent\"><img src=\"https://colab.research.google.com/assets/colab-badge.svg\" alt=\"Open In Colab\"/></a>"
      ]
    },
    {
      "cell_type": "code",
      "execution_count": 2,
      "metadata": {
        "colab": {
          "base_uri": "https://localhost:8080/"
        },
        "id": "CYUxlZamdmSo",
        "outputId": "244e31b6-81bc-468e-a1fb-0b36e4dbf68b"
      },
      "outputs": [
        {
          "output_type": "stream",
          "name": "stdout",
          "text": [
            "enter principle1000\n",
            "enter time2\n",
            "enter rate10\n",
            "200.0\n"
          ]
        }
      ],
      "source": [
        "\n",
        "p=int(input(\"enter principle\"))\n",
        "t=int(input(\"enter time\"))\n",
        "r=int(input(\"enter rate\"))\n",
        "si=p*t*r/100\n",
        "print(si)"
      ]
    },
    {
      "cell_type": "code",
      "source": [
        "l=int(input(\"enter length of rectangle\"))\n",
        "b=int(input(\"enter breadth of rectangle\"))\n",
        "p=2*(l+b)\n",
        "print(p)"
      ],
      "metadata": {
        "colab": {
          "base_uri": "https://localhost:8080/"
        },
        "id": "OyZJRZnaeGc2",
        "outputId": "ef47e021-c6d2-4ea7-c158-8e465b8fd318"
      },
      "execution_count": 3,
      "outputs": [
        {
          "output_type": "stream",
          "name": "stdout",
          "text": [
            "enter length of rectangle2\n",
            "enter breadth of rectangle3\n",
            "10\n"
          ]
        }
      ]
    },
    {
      "cell_type": "code",
      "source": [
        "def odev(n):\n",
        "  if n%2==0:\n",
        "    print(\"given number is even\")\n",
        "  else:  \n",
        "    print(\"given number is odd\")\n",
        "n=int(input(\"enter any number\"))\n",
        "odev(n)    \n",
        " "
      ],
      "metadata": {
        "colab": {
          "base_uri": "https://localhost:8080/"
        },
        "id": "43PAj_CMfR4b",
        "outputId": "2af8a08e-fad3-4717-cba0-2c080fb9b618"
      },
      "execution_count": 5,
      "outputs": [
        {
          "output_type": "stream",
          "name": "stdout",
          "text": [
            "enter any number5\n",
            "given number is odd\n"
          ]
        }
      ]
    },
    {
      "cell_type": "code",
      "source": [
        "a=([\"Ram\",23,\"dang\"],[\"shyam\",23,\"ktm\"],[\"sita\",56,\"dang\"])\n",
        "a[0].append(\"98765445678\")\n",
        "a"
      ],
      "metadata": {
        "colab": {
          "base_uri": "https://localhost:8080/"
        },
        "id": "6YCJePYSfiob",
        "outputId": "7b5dc1b6-c0f3-4746-ea7d-b9d32f23f96d"
      },
      "execution_count": 6,
      "outputs": [
        {
          "output_type": "execute_result",
          "data": {
            "text/plain": [
              "(['Ram', 23, 'dang', '98765445678'],\n",
              " ['shyam', 23, 'ktm'],\n",
              " ['sita', 56, 'dang'])"
            ]
          },
          "metadata": {},
          "execution_count": 6
        }
      ]
    },
    {
      "cell_type": "code",
      "source": [
        "def odev(n):\n",
        "  if n<0:\n",
        "    print(\"given number is negative\")\n",
        "  elif n>0:  \n",
        "    print(\"given number is positive\")\n",
        "  else:\n",
        "    print(\"given number is zero\")\n",
        "n=int(input(\"enter any number\"))\n",
        "odev(n)    \n",
        " "
      ],
      "metadata": {
        "colab": {
          "base_uri": "https://localhost:8080/"
        },
        "id": "He-OVqi-gZhQ",
        "outputId": "b6dcfcee-5774-4761-d250-1f38205efc23"
      },
      "execution_count": 9,
      "outputs": [
        {
          "output_type": "stream",
          "name": "stdout",
          "text": [
            "enter any number9\n",
            "given number is positive\n"
          ]
        }
      ]
    },
    {
      "cell_type": "code",
      "source": [
        "def check(a,b,c):\n",
        "  if (a>b and a>c):\n",
        "    print(\"{0} is the largest number\".format(a))\n",
        "  elif b>c and b>a:\n",
        "    print(\"b is the largest number\")\n",
        "  else:\n",
        "    print(\"c is the largest number\")\n",
        "\n",
        "a=int(input(\"enter first number\"))\n",
        "b=int(input(\"enter second number\"))\n",
        "c=int(input(\"enter third number\"))\n",
        "check(a,b,c)    "
      ],
      "metadata": {
        "colab": {
          "base_uri": "https://localhost:8080/"
        },
        "id": "bSe0kgsYg4iH",
        "outputId": "c78297f0-25a5-4e69-bb13-2422e0dc477c"
      },
      "execution_count": 4,
      "outputs": [
        {
          "output_type": "stream",
          "name": "stdout",
          "text": [
            "enter first number10\n",
            "enter second number2\n",
            "enter third number1\n",
            "10 is the largest number\n"
          ]
        }
      ]
    }
  ]
}
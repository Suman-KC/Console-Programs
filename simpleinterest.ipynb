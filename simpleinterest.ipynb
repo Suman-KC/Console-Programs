{
  "nbformat": 4,
  "nbformat_minor": 0,
  "metadata": {
    "colab": {
      "provenance": [],
      "authorship_tag": "ABX9TyMY88A75I0tQ6IW2QX4oBAO",
      "include_colab_link": true
    },
    "kernelspec": {
      "name": "python3",
      "display_name": "Python 3"
    },
    "language_info": {
      "name": "python"
    }
  },
  "cells": [
    {
      "cell_type": "markdown",
      "metadata": {
        "id": "view-in-github",
        "colab_type": "text"
      },
      "source": [
        "<a href=\"https://colab.research.google.com/github/Suman-KC/Console-Programs/blob/master/simpleinterest.ipynb\" target=\"_parent\"><img src=\"https://colab.research.google.com/assets/colab-badge.svg\" alt=\"Open In Colab\"/></a>"
      ]
    },
    {
      "cell_type": "code",
      "execution_count": 2,
      "metadata": {
        "colab": {
          "base_uri": "https://localhost:8080/"
        },
        "id": "CYUxlZamdmSo",
        "outputId": "244e31b6-81bc-468e-a1fb-0b36e4dbf68b"
      },
      "outputs": [
        {
          "output_type": "stream",
          "name": "stdout",
          "text": [
            "enter principle1000\n",
            "enter time2\n",
            "enter rate10\n",
            "200.0\n"
          ]
        }
      ],
      "source": [
        "\n",
        "p=int(input(\"enter principle\"))\n",
        "t=int(input(\"enter time\"))\n",
        "r=int(input(\"enter rate\"))\n",
        "si=p*t*r/100\n",
        "print(si)"
      ]
    },
    {
      "cell_type": "code",
      "source": [],
      "metadata": {
        "id": "OyZJRZnaeGc2"
      },
      "execution_count": null,
      "outputs": []
    }
  ]
}
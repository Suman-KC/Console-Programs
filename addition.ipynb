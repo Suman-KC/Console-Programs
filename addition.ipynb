{
  "nbformat": 4,
  "nbformat_minor": 0,
  "metadata": {
    "colab": {
      "provenance": [],
      "authorship_tag": "ABX9TyPexqCkyYYjnWZMTJC4mI0i",
      "include_colab_link": true
    },
    "kernelspec": {
      "name": "python3",
      "display_name": "Python 3"
    },
    "language_info": {
      "name": "python"
    }
  },
  "cells": [
    {
      "cell_type": "markdown",
      "metadata": {
        "id": "view-in-github",
        "colab_type": "text"
      },
      "source": [
        "<a href=\"https://colab.research.google.com/github/Suman-KC/Console-Programs/blob/master/addition.ipynb\" target=\"_parent\"><img src=\"https://colab.research.google.com/assets/colab-badge.svg\" alt=\"Open In Colab\"/></a>"
      ]
    },
    {
      "cell_type": "code",
      "execution_count": 3,
      "metadata": {
        "colab": {
          "base_uri": "https://localhost:8080/"
        },
        "id": "B_1dSwCkcI5W",
        "outputId": "7c927e62-b0d3-4943-ec51-edf7a11f8034"
      },
      "outputs": [
        {
          "output_type": "stream",
          "name": "stdout",
          "text": [
            "enter first number5\n",
            "enter second number6\n",
            "the sum of 5 and 6 is : 11\n"
          ]
        }
      ],
      "source": [
        "x=int(input(\"enter first number\"))\n",
        "y=int(input(\"enter second number\"))\n",
        "z=x+y\n",
        "print(\"the sum of {0} and {1} is : {2}\".format(x,y,z))"
      ]
    },
    {
      "cell_type": "code",
      "source": [],
      "metadata": {
        "id": "Gwg0davJchUd"
      },
      "execution_count": null,
      "outputs": []
    }
  ]
}